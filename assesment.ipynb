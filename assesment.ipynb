{
  "nbformat": 4,
  "nbformat_minor": 0,
  "metadata": {
    "colab": {
      "provenance": []
    },
    "kernelspec": {
      "name": "python3",
      "display_name": "Python 3"
    },
    "language_info": {
      "name": "python"
    }
  },
  "cells": [
    {
      "cell_type": "code",
      "execution_count": 1,
      "metadata": {
        "colab": {
          "base_uri": "https://localhost:8080/"
        },
        "id": "Yd1kbfRlpv0T",
        "outputId": "55eb7b02-ac69-4ad1-d237-6c96ba523ee7"
      },
      "outputs": [
        {
          "output_type": "stream",
          "name": "stdout",
          "text": [
            "[5, 15, 21, 54, 416, 741, 6135]\n"
          ]
        }
      ],
      "source": [
        "# Q1. Get your basics right - Implement selection sort algorithm in python. The function accepts a\n",
        "# list in the input and returns a sorted list.\n",
        "# E.g.\n",
        "# Input f1([5,416,54,21,6135,15,741]) should\n",
        "# Return [5, 15, 21, 54, 416, 741, 6135]\n",
        "# Selection sort in Python\n",
        "# time complexity O(n*n)\n",
        "#sorting by finding min_index\n",
        "\n",
        "\n",
        "def selection_sort(arr):\n",
        "    n = len(arr)\n",
        "    for i in range(n-1):\n",
        "        min_idx = i\n",
        "        for j in range(i+1, n):\n",
        "            if arr[j] < arr[min_idx]:\n",
        "                min_idx = j\n",
        "        arr[i], arr[min_idx] = arr[min_idx], arr[i]\n",
        "    return arr\n",
        "\n",
        "\n",
        "#E.g    \n",
        "input_list = [5, 416, 54, 21, 6135, 15, 741]\n",
        "sorted_list = selection_sort(input_list)\n",
        "print(sorted_list)\n",
        "\n"
      ]
    },
    {
      "cell_type": "markdown",
      "source": [
        "The function returns the sorted list' [5, 15, 21, 54, 416, 741, 6135]' using the selection sort algorithm."
      ],
      "metadata": {
        "id": "gA0RrpZjADwH"
      }
    },
    {
      "cell_type": "code",
      "source": [
        "# Q2. Dictionary, what?\n",
        "# Write a program that returns the file type from a file name. The type of the file is determined\n",
        "# from the extension. Initially, a list of values of the form \"extension,type\"(e.g. xls,spreadsheet;\n",
        "# png,image) will be input.\n",
        "# The program takes input in the following form:\n",
        "# 1. Input extension and type values in the form of a string having the following format:\n",
        "# a. \"extension1,type1;extension2,type2;extension3,type3\"\n",
        "# b. E.g. If we needed to input xls → spreadsheet, xlsx → spreadsheet, jpg → image\n",
        "# our string would be something like: \"xls,spreadsheet;xlsx,spreadsheet;jpg,image\"\n",
        "# 2. Input a list of filename.extension. E.g. an input list could be something like [\"abc.html\",\n",
        "# \"xyz.xls\", \"text.csv\", \"123\"]\n",
        "# The program should return a dict of filename: type pairs\n",
        "# E.g.\n",
        "# f(\"xls,spreadsheet;xlsx,spreadsheet;jpg,image\", [\"abc.jpg\",\n",
        "# \"xyz.xls\", \"text.csv\", \"123\"]) should return\n",
        "# {\n",
        "# \"abc.jpg\": \"image\",\n",
        "# \"xyz.xls\": \"spreadsheet\",\n",
        "# \"Text.csv\": \"unknown\",\n",
        "# \"123\": \"unknown\"\n",
        "# }\n",
        "#Ans ==>> Dictionary -> In Python, a dictionary is an unordered collection of key-value pairs, where each key is unique.\n",
        "#Dictionaries are mutable in Python, which means they can be changed after they are created.\n",
        "#E.g -> my_dict = {\"name\": \"John\", \"age\": 25, \"city\": \"New York\"}\n",
        "\n",
        "\n",
        "def get_file_type(extension_type_list, filenames):\n",
        "    extension_type_pairs = extension_type_list.split(';')\n",
        "    extension_type_dict = {}\n",
        "    for pair in extension_type_pairs:\n",
        "        extension, file_type = pair.split(',')\n",
        "        extension_type_dict[extension] = file_type\n",
        "\n",
        "    file_type_dict = {}\n",
        "    for filename in filenames:\n",
        "        if '.' in filename:\n",
        "            extension = filename.split('.')[-1]\n",
        "            file_type = extension_type_dict.get(extension, 'unknown')\n",
        "        else:\n",
        "            file_type = 'unknown'\n",
        "        file_type_dict[filename] = file_type\n",
        "\n",
        "    return file_type_dict\n",
        "\n",
        "#E.g\n",
        "extension_type_list = \"xls,spreadsheet;xlsx,spreadsheet;jpg,image\"\n",
        "filenames = [\"abc.jpg\", \"xyz.xls\", \"text.csv\", \"123\"]\n",
        "result = get_file_type(extension_type_list, filenames)\n",
        "print(result)\n"
      ],
      "metadata": {
        "colab": {
          "base_uri": "https://localhost:8080/"
        },
        "id": "sxJVxV79qsvs",
        "outputId": "0b8d77d3-441d-4cdc-8ee9-9524df45ebfc"
      },
      "execution_count": 2,
      "outputs": [
        {
          "output_type": "stream",
          "name": "stdout",
          "text": [
            "{'abc.jpg': 'image', 'xyz.xls': 'spreadsheet', 'text.csv': 'unknown', '123': 'unknown'}\n"
          ]
        }
      ]
    },
    {
      "cell_type": "code",
      "source": [
        " #3. Given a list of dicts, write a program to sort the list according to a key given in input.\n",
        "#  E.g.\n",
        "# Input f([\n",
        "# {\"fruit\": \"orange\", \"color\": \"orange\"},\n",
        "# {\"fruit\": \"apple\", \"color\": \"red\"},\n",
        "# {\"fruit\": \"banana\", \"color\": \"yellow\"},\n",
        "# {\"fruit\": \"blueberry\", \"color\": \"blue\"}\n",
        "# ], \"fruit\")\n",
        "# Should Output\n",
        "# [\n",
        "# {\"fruit\": \"apple\", \"color\": \"red\"},\n",
        "# {\"fruit\": \"banana\", \"color\": \"yellow\"},\n",
        "# {\"fruit\": \"blueberry\", \"color\": \"blue\"},\n",
        "# {\"fruit\": \"orange\", \"color\": \"orange\"}\n",
        "# ]\n",
        "# AND\n",
        "# Input f([\n",
        "# {\"fruit\": \"orange\", \"color\": \"orange\"},\n",
        "# {\"fruit\": \"apple\", \"color\": \"red\"},\n",
        "# {\"fruit\": \"banana\", \"color\": \"yellow\"},\n",
        "# {\"fruit\": \"blueberry\", \"color\": \"blue\"}\n",
        "# ], \"color\")\n",
        "# Should Output\n",
        "# [\n",
        "# {\"fruit\": \"blueberry\", \"color\": \"blue\"},\n",
        "# {\"fruit\": \"orange\", \"color\": \"orange\"},\n",
        "# {\"fruit\": \"apple\", \"color\": \"red\"},\n",
        "# {\"fruit\": \"banana\", \"color\": \"yellow\"}\n",
        "# ]\n",
        "\n",
        "\n",
        "def sort_list_of_dicts(list_of_dicts, sort_key):\n",
        "    sorted_list = sorted(list_of_dicts, key=lambda x: x[sort_key])\n",
        "    return sorted_list\n",
        "\n",
        "\n",
        "# E.g\n",
        "list_of_dicts = [\n",
        "    {\"fruit\": \"orange\", \"color\": \"orange\"},\n",
        "    {\"fruit\": \"apple\", \"color\": \"red\"},\n",
        "    {\"fruit\": \"banana\", \"color\": \"yellow\"},\n",
        "    {\"fruit\": \"blueberry\", \"color\": \"blue\"}\n",
        "]\n",
        "\n",
        "sorted_list_by_fruit = sort_list_of_dicts(list_of_dicts, \"fruit\")\n",
        "print(sorted_list_by_fruit)\n",
        "\n",
        "sorted_list_by_color = sort_list_of_dicts(list_of_dicts, \"color\")\n",
        "print(sorted_list_by_color)\n"
      ],
      "metadata": {
        "id": "-svO1YVR_4m3",
        "colab": {
          "base_uri": "https://localhost:8080/"
        },
        "outputId": "e7d1e39e-0870-40b4-c1c4-e0abc7f69279"
      },
      "execution_count": 3,
      "outputs": [
        {
          "output_type": "stream",
          "name": "stdout",
          "text": [
            "[{'fruit': 'apple', 'color': 'red'}, {'fruit': 'banana', 'color': 'yellow'}, {'fruit': 'blueberry', 'color': 'blue'}, {'fruit': 'orange', 'color': 'orange'}]\n",
            "[{'fruit': 'blueberry', 'color': 'blue'}, {'fruit': 'orange', 'color': 'orange'}, {'fruit': 'apple', 'color': 'red'}, {'fruit': 'banana', 'color': 'yellow'}]\n"
          ]
        }
      ]
    },
    {
      "cell_type": "code",
      "source": [
        "# 4.The power of one line -\n",
        "# Given a dictionary, switch position of key and values in the dict, i.e., value becomes the key and\n",
        "# key becomes value. The function's body shouldn't have more than one statement.\n",
        "# f({\n",
        "# \"key1\": \"value1\",\n",
        "# \"key2\": \"value2\",\n",
        "# \"key3\": \"value3\",\n",
        "# \"key4\": \"value4\",\n",
        "# \"key5\": \"value5\"\n",
        "# }) should return\n",
        "# {\n",
        "# \"value1\": \"key1\",\n",
        "# \"value2\": \"key2\",\n",
        "# \"value3\": \"key3\",\n",
        "# \"value4\": \"key4\",\n",
        "# \"value5\": \"key5\"\n",
        "# }\n",
        "#Solution ->\n",
        "\n",
        "\n",
        "def switch_key_value_pairs(dict):\n",
        "    return {value: key for key, value in dict.items()}\n",
        "\n",
        "#E.g\n",
        "result = switch_key_value_pairs({\n",
        "    \"key1\": \"value1\",\n",
        "    \"key2\": \"value2\",\n",
        "    \"key3\": \"value3\",\n",
        "    \"key4\": \"value4\",\n",
        "    \"key5\": \"value5\"\n",
        "})\n",
        "\n",
        "print(result)\n"
      ],
      "metadata": {
        "colab": {
          "base_uri": "https://localhost:8080/"
        },
        "id": "vGcVMRJkpSkn",
        "outputId": "c81b429f-1b59-412d-8ac6-c4343b078552"
      },
      "execution_count": 4,
      "outputs": [
        {
          "output_type": "stream",
          "name": "stdout",
          "text": [
            "{'value1': 'key1', 'value2': 'key2', 'value3': 'key3', 'value4': 'key4', 'value5': 'key5'}\n"
          ]
        }
      ]
    },
    {
      "cell_type": "code",
      "source": [
        "# Q5. Common, Not Common\n",
        "# Given 2 lists in input. Write a program to return the elements, which are common to both\n",
        "# lists(set intersection) and those which are not common(set symmetric difference) between the\n",
        "# lists.\n",
        "# Input:\n",
        "# Mainstream = [\"One Punch Man\",\"Attack On Titan\",\"One Piece\",\"Sword\n",
        "# Art Online\",\"Bleach\",\"Dragon Ball Z\",\"One Piece\"]\n",
        "# must_watch = [\"Full Metal Alchemist\",\"Code Geass\",\"Death\n",
        "# Note\",\"Stein's Gate\",\"The Devil is a Part Timer!\",\"One Piece\",\"Attack\n",
        "# On Titan\"]\n",
        "# f(mainstream, must_watch) should return:\n",
        "# [\"One Piece\", \"Attack On Titan\"], [\"Dragon Ball Z\", \"Death Note\",\n",
        "# \"One Punch Man\", \"Stein's Gate\", \"The Devil is a Part Timer!\", \"Sword\n",
        "# Art Online\",\"Full Metal Alchemist\",\"'Bleach\", \"Code Geass\"]\n",
        "\n",
        "\n",
        "def compare_lists(list1, list2):\n",
        "    Common_elements = list(set(list1) & set(list2))\n",
        "    Not_common_elements = list(set(list1) ^ set(list2))\n",
        "    return Common_elements, Not_common_elements\n",
        "\n",
        "    #E.g input\n",
        "\n",
        "Mainstream = [\"One Punch Man\",\"Attack On Titan\",\"One Piece\",\"Sword Art Online\",\"Bleach\",\"Dragon Ball Z\",\"One Piece\"]\n",
        "must_watch = [\"Full Metal Alchemist\",\"Code Geass\",\"Death Note\",\"Stein's Gate\",\"The Devil is a Part Timer!\",\"One Piece\",\"Attack On Titan\"]\n",
        "Common_elements, Not_common_elements = compare_lists(Mainstream, must_watch)\n",
        "\n",
        "#print elements\n",
        "print(\"Common elements:\", Common_elements)\n",
        "print(\"Uncommon elements:\", Not_common_elements)\n"
      ],
      "metadata": {
        "colab": {
          "base_uri": "https://localhost:8080/"
        },
        "id": "W6x-9Rk-rZu9",
        "outputId": "6b5265b5-c890-453b-8562-9f6bfd1ceaee"
      },
      "execution_count": 5,
      "outputs": [
        {
          "output_type": "stream",
          "name": "stdout",
          "text": [
            "Common elements: ['One Piece', 'Attack On Titan']\n",
            "Uncommon elements: ['Death Note', \"Stein's Gate\", 'Code Geass', 'The Devil is a Part Timer!', 'Dragon Ball Z', 'Bleach', 'One Punch Man', 'Sword Art Online', 'Full Metal Alchemist']\n"
          ]
        }
      ]
    },
    {
      "cell_type": "code",
      "source": [
        "# Q.6 Given a list and 2 indices as input, return the sub-list enclosed within these 2 indices. It should\n",
        "# contain every second element.\n",
        "# E.g.\n",
        "# Input f([2,3,5,7,11,13,17,19,23,29,31,37,41], 2, 9)\n",
        "\n",
        "def get_sublist(lst, start_index, end_index):\n",
        "    return lst[start_index:end_index + 1:2]\n",
        "\n",
        "\n",
        "#E.g\n",
        "result = get_sublist([2, 3, 5, 7, 11, 13, 17, 19, 23, 29, 31, 37, 41], 2, 9)\n",
        "print(result)\n"
      ],
      "metadata": {
        "colab": {
          "base_uri": "https://localhost:8080/"
        },
        "id": "A3uiAJksucCA",
        "outputId": "f6643255-80ef-48b6-d374-e9a08e06a6b1"
      },
      "execution_count": 6,
      "outputs": [
        {
          "output_type": "stream",
          "name": "stdout",
          "text": [
            "[5, 11, 17, 23]\n"
          ]
        }
      ]
    },
    {
      "cell_type": "code",
      "source": [
        "#Q7. Calculate the factorial of a number using lambda function.\n",
        "\n",
        "factorial = lambda n: 1 if n == 0 else n * factorial(n - 1)\n",
        "\n",
        "number = 5\n",
        "result = factorial(number)\n",
        "print(f\"The factorial of {number} is: {result}\")\n"
      ],
      "metadata": {
        "colab": {
          "base_uri": "https://localhost:8080/"
        },
        "id": "JMrUuQQ0v-dY",
        "outputId": "96fa0c80-129a-4cc1-d0cf-c33c644a1e9a"
      },
      "execution_count": 7,
      "outputs": [
        {
          "output_type": "stream",
          "name": "stdout",
          "text": [
            "The factorial of 5 is: 120\n"
          ]
        }
      ]
    },
    {
      "cell_type": "code",
      "source": [
        "# Q8. Some neat tricks up her sleeve:\n",
        "# Looking at the below code, write down the final values of A0, A1, ...An\n",
        "# A0 = dict(zip(('a','b','c','d','e'),(1,2,3,4,5)))\n",
        "# A1 = range(10)\n",
        "# A2 = sorted([i for i in A1 if i in A0])\n",
        "# A3 = sorted([A0[s] for s in A0])\n",
        "# A4 = [i for i in A1 if i in A3]\n",
        "# A5 = {i:i*i for i in A1}\n",
        "# A6 = [[i,i*i] for i in A1]\n",
        "# A7 = reduce(lambda x,y: x+y, [10,23, -45, 33])\n",
        "# A8 = map(lambda x: x*2, [1,2,3,4])\n",
        "# A9 = filter(lambda x: len(x) >3, [“I” , “want”, “to”, “learn”, “python”])\n",
        "\n",
        "\n",
        "from functools import reduce\n",
        "\n",
        "A0 = dict(zip(('a', 'b', 'c', 'd', 'e'), (1, 2, 3, 4, 5)))\n",
        "A1 = range(10)\n",
        "A2 = sorted([i for i in A1 if i in A0])\n",
        "A3 = sorted([A0[s] for s in A0])\n",
        "A4 = [i for i in A1 if i in A3]\n",
        "A5 = {i: i*i for i in A1}\n",
        "A6 = [[i, i*i] for i in A1]\n",
        "A7 = reduce(lambda x, y: x + y, [10, 23, -45, 33])\n",
        "A8 = list(map(lambda x: x*2, [1, 2, 3, 4]))\n",
        "A9 = list(filter(lambda x: len(x) > 3, [\"I\", \"want\", \"to\", \"learn\", \"python\"]))\n",
        "\n",
        "print(A0)\n",
        "print(list(A1))\n",
        "print(A2)\n",
        "print(A3)\n",
        "print(A4)\n",
        "print(A5)\n",
        "print(A6)\n",
        "print(A7)\n",
        "print(A8)\n",
        "print(A9)"
      ],
      "metadata": {
        "colab": {
          "base_uri": "https://localhost:8080/"
        },
        "id": "QiGlHPl9wU1N",
        "outputId": "3ce6b30c-8150-4ba6-8a46-801f37f1be40"
      },
      "execution_count": 8,
      "outputs": [
        {
          "output_type": "stream",
          "name": "stdout",
          "text": [
            "{'a': 1, 'b': 2, 'c': 3, 'd': 4, 'e': 5}\n",
            "[0, 1, 2, 3, 4, 5, 6, 7, 8, 9]\n",
            "[]\n",
            "[1, 2, 3, 4, 5]\n",
            "[1, 2, 3, 4, 5]\n",
            "{0: 0, 1: 1, 2: 4, 3: 9, 4: 16, 5: 25, 6: 36, 7: 49, 8: 64, 9: 81}\n",
            "[[0, 0], [1, 1], [2, 4], [3, 9], [4, 16], [5, 25], [6, 36], [7, 49], [8, 64], [9, 81]]\n",
            "21\n",
            "[2, 4, 6, 8]\n",
            "['want', 'learn', 'python']\n"
          ]
        }
      ]
    },
    {
      "cell_type": "code",
      "source": [
        "# Q9.\n",
        "# Write a func that takes 3 args:\n",
        "# from_date - string representing a date in the form of 'yy-mm-dd'\n",
        "# to_date - string representing a date in the form of 'yy-mm-dd'\n",
        "# difference - int\n",
        "# Returns True if from_date and to_date are less than difference days away from each other, else\n",
        "# returns False.\n",
        "\n",
        "from datetime import datetime, timedelta\n",
        "\n",
        "def check_date_difference(from_date, to_date, difference):\n",
        "    date_format = \"%y-%m-%d\"\n",
        "    date1 = datetime.strptime(from_date, date_format)\n",
        "    date2 = datetime.strptime(to_date, date_format)\n",
        "    days_difference = (date2 - date1).days\n",
        "    return days_difference < difference\n",
        "  \n",
        "\n",
        "result1 = check_date_difference('21-05-01', '21-05-10', 10)\n",
        "print(result1)  # Output: True\n",
        "\n",
        "result2 = check_date_difference('21-05-01', '21-05-10', 9)\n",
        "print(result2)  # Output: False\n"
      ],
      "metadata": {
        "colab": {
          "base_uri": "https://localhost:8080/"
        },
        "id": "ypwV8MzrxTNR",
        "outputId": "ad298e11-c5d9-4e74-fb7c-e2415a2b2f3a"
      },
      "execution_count": 9,
      "outputs": [
        {
          "output_type": "stream",
          "name": "stdout",
          "text": [
            "True\n",
            "False\n"
          ]
        }
      ]
    },
    {
      "cell_type": "code",
      "source": [
        "# Q10. Of date and days\n",
        "# Write a func that takes 2 args:\n",
        "# date - string representing a date in the form of 'yy-mm-dd'\n",
        "# n - integer\n",
        "# Returns the string representation of date n days before 'date'\n",
        "# E.g. f('16-12-10', 11) should return '16-11-29'\n",
        "\n",
        "from datetime import datetime, timedelta\n",
        "\n",
        "def get_previous_date(date, n):\n",
        "    date_format = \"%y-%m-%d\"\n",
        "    given_date = datetime.strptime(date, date_format)\n",
        "    previous_date = given_date - timedelta(days=n)\n",
        "    return previous_date.strftime(date_format)\n",
        "    \n",
        "#E.g\n",
        "\n",
        "result = get_previous_date('16-12-10', 11)\n",
        "print(result)  # Output: 16-11-29\n"
      ],
      "metadata": {
        "colab": {
          "base_uri": "https://localhost:8080/"
        },
        "id": "QZiky-IIx5XR",
        "outputId": "38a7f4c6-d02f-4f07-fc27-876d8f249c0d"
      },
      "execution_count": 10,
      "outputs": [
        {
          "output_type": "stream",
          "name": "stdout",
          "text": [
            "16-11-29\n"
          ]
        }
      ]
    },
    {
      "cell_type": "code",
      "source": [
        "# Q11. Something fishy there -\n",
        "# Find output of following:\n",
        "# def f(x,l=[]):\n",
        "# for i in range(x):\n",
        "# l.append(i*i)\n",
        "# print(l)\n",
        "# f(2)\n",
        "# f(3,[3,2,1])\n",
        "# f(3)\n",
        "\n",
        "def f(x, l=[]):\n",
        "    for i in range(x):\n",
        "        l.append(i * i)\n",
        "    print(l)\n",
        "\n",
        "#E.g\n",
        "\n",
        "f(2)\n",
        "f(3,[3,2,1])\n",
        "f(3)\n"
      ],
      "metadata": {
        "colab": {
          "base_uri": "https://localhost:8080/"
        },
        "id": "Jx37MesZyY_9",
        "outputId": "41e196a5-f145-4fbe-eb0b-60a90173debe"
      },
      "execution_count": 11,
      "outputs": [
        {
          "output_type": "stream",
          "name": "stdout",
          "text": [
            "[0, 1]\n",
            "[3, 2, 1, 0, 1, 4]\n",
            "[0, 1, 0, 1, 4]\n"
          ]
        }
      ]
    }
  ]
}